{
 "cells": [
  {
   "cell_type": "code",
   "execution_count": null,
   "id": "f7b6cee2-a684-4997-9cc6-a6b60c80002c",
   "metadata": {},
   "outputs": [],
   "source": []
  }
 ],
 "metadata": {
  "kernelspec": {
   "display_name": "",
   "name": ""
  },
  "language_info": {
   "name": ""
  }
 },
 "nbformat": 4,
 "nbformat_minor": 5
}
